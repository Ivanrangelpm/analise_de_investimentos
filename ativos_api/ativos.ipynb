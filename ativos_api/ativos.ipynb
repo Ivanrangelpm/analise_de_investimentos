{
 "cells": [
  {
   "cell_type": "code",
   "execution_count": 1,
   "id": "f36502e2",
   "metadata": {},
   "outputs": [],
   "source": [
    "import pandas as pd"
   ]
  },
  {
   "cell_type": "code",
   "execution_count": 3,
   "id": "8c169c60",
   "metadata": {},
   "outputs": [],
   "source": [
    "sheets = pd.read_excel('../carteira.xlsx', sheet_name=None) "
   ]
  }
 ],
 "metadata": {
  "kernelspec": {
   "display_name": "teste1",
   "language": "python",
   "name": "python3"
  },
  "language_info": {
   "codemirror_mode": {
    "name": "ipython",
    "version": 3
   },
   "file_extension": ".py",
   "mimetype": "text/x-python",
   "name": "python",
   "nbconvert_exporter": "python",
   "pygments_lexer": "ipython3",
   "version": "3.8.19"
  }
 },
 "nbformat": 4,
 "nbformat_minor": 5
}
